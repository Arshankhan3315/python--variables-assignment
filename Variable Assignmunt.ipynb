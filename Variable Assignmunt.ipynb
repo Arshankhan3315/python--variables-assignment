{
 "cells": [
  {
   "cell_type": "markdown",
   "id": "293221e8-9561-431b-b552-e7cca33c2fc9",
   "metadata": {},
   "source": [
    "Python - Variable Assignment"
   ]
  },
  {
   "cell_type": "markdown",
   "id": "15862510-14ef-4777-a773-59f94c7c850a",
   "metadata": {},
   "source": [
    "Question 1 - Write all the convention being followed whhile declaring a variable"
   ]
  },
  {
   "cell_type": "markdown",
   "id": "35e964c3-a833-47c5-8e82-75eb39dad2d0",
   "metadata": {},
   "source": [
    "Answer 1 - When Declaring a variable there are some convention that are commonly used in python and other languages\n",
    "1- Use lower case letter variable is pyton programming language are case sensitive so it is recommended to use lower case letter\n",
    "2- Use descriptive nasmes it is important to use descriptive names that convey the purpose of the variable this make easier to read and understand your code\n",
    "3- Avoid reserved keyword variable shoud not be named after reserved keyword in the programming langauge\n",
    "4- Use consistent naming convention once you have established a naming  convention for you variables  it is  important to be consistent throughghout you code this help to avoid confusion\n",
    "5- Use meaningful abbreviation if you must use abbreavition in your variable names make sure they are meaningful Exaample- 'no' repregent number or 'max' for maximum\n",
    "They are convention can help make you code readable"
   ]
  },
  {
   "cell_type": "markdown",
   "id": "30b409d7-3230-4003-b964-11d2503e0c7d",
   "metadata": {},
   "source": [
    "Question 2 - what will happend if we declare a restricted keyword as a variable?"
   ]
  },
  {
   "cell_type": "markdown",
   "id": "52220c6a-e2d3-4fde-bccf-a95013f9b429",
   "metadata": {},
   "source": [
    "Answer 2 - If you are to decleare a restricted keyword as a variable in python language you will get a syntex error or a compilation error this is because reserved keyword have a special meaning in the python langauge \n",
    "For Example - In python if you try to declare a variable with name that is a reserved keyword like if elso,while,for,return etc. you will get syntex error "
   ]
  },
  {
   "cell_type": "markdown",
   "id": "7657a6f7-2c0b-40d2-a8ed-f0249816d1cd",
   "metadata": {},
   "source": [
    "Question 3- Can we actually declare a restricted keyword as a variable "
   ]
  },
  {
   "cell_type": "markdown",
   "id": "a45c433d-e9fe-47a3-9e21-dc1a451c3a37",
   "metadata": {},
   "source": [
    "Anwer 3- yes, In python you can declare a string as a variable name by enclosing the string in backticks ('') or quotes(\" \")"
   ]
  },
  {
   "cell_type": "markdown",
   "id": "25ea3389-9de9-4d13-b9df-feff9624dbe6",
   "metadata": {},
   "source": [
    "Question 4- Is it possible for us to decleare \" _\" as a varible? if so, then write an example of it"
   ]
  },
  {
   "cell_type": "markdown",
   "id": "db7b180c-638e-4154-bbcb-3d31af89302c",
   "metadata": {},
   "source": [
    "Answer 4- yes, Itis possible to declare '_' as a varible name in python languages has a special meaning and is commonly used as a thorwaway variable _ =10"
   ]
  },
  {
   "cell_type": "markdown",
   "id": "661afd7b-249f-48df-b4f9-0d916df95eed",
   "metadata": {},
   "source": [
    "Question 5- Using on exampleb how the varible in python are dynamic is nature"
   ]
  },
  {
   "cell_type": "markdown",
   "id": "ab1a0afa-2ccd-43c1-b351-1d2c34a70052",
   "metadata": {},
   "source": [
    "Answer 5- In python varible are dynamic in nature which means that they can refer to objects of different types at differnt times during the execution of a program\n",
    "For example "
   ]
  },
  {
   "cell_type": "code",
   "execution_count": 17,
   "id": "d246bc06-fadc-4332-8675-d9171120c7b5",
   "metadata": {},
   "outputs": [],
   "source": [
    "a = 10"
   ]
  },
  {
   "cell_type": "code",
   "execution_count": 18,
   "id": "de372954-ef03-4474-ba9c-968359918aff",
   "metadata": {},
   "outputs": [
    {
     "name": "stdout",
     "output_type": "stream",
     "text": [
      "10\n"
     ]
    }
   ],
   "source": [
    "print(a) "
   ]
  },
  {
   "cell_type": "markdown",
   "id": "48102281-a3cc-40db-a7e6-3be7413cfb7e",
   "metadata": {},
   "source": [
    "In a example we fist declare a varivle a and assign it valu 10 then we print the value 'a' and id 10"
   ]
  },
  {
   "cell_type": "markdown",
   "id": "c572726f-d8aa-4be4-903d-836d4018ea6d",
   "metadata": {},
   "source": [
    "This is my assignment completed"
   ]
  },
  {
   "cell_type": "code",
   "execution_count": null,
   "id": "7c2f69a8-a7c4-4225-b573-6deb7c64b830",
   "metadata": {},
   "outputs": [],
   "source": []
  }
 ],
 "metadata": {
  "kernelspec": {
   "display_name": "Python 3 (ipykernel)",
   "language": "python",
   "name": "python3"
  },
  "language_info": {
   "codemirror_mode": {
    "name": "ipython",
    "version": 3
   },
   "file_extension": ".py",
   "mimetype": "text/x-python",
   "name": "python",
   "nbconvert_exporter": "python",
   "pygments_lexer": "ipython3",
   "version": "3.10.8"
  }
 },
 "nbformat": 4,
 "nbformat_minor": 5
}
